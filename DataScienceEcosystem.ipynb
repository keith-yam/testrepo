{
 "cells": [
  {
   "cell_type": "markdown",
   "id": "118c5abb-fea2-4962-9958-382e840a59f7",
   "metadata": {},
   "source": [
    "# Data Science Tools and Ecosystem"
   ]
  },
  {
   "cell_type": "markdown",
   "id": "dd93766e-9aac-462e-a648-eec4b4c1b5d8",
   "metadata": {},
   "source": [
    "In this notebook, Data Science Tools and Ecosystem are summarized."
   ]
  },
  {
   "cell_type": "markdown",
   "id": "cba4216b-fe5d-4956-b9c3-52bd4450b9be",
   "metadata": {},
   "source": [
    "Some of the popular languages that Data Scientists use are:\n",
    "- Python\n",
    "- R\n",
    "- Java\n",
    "- C++"
   ]
  },
  {
   "cell_type": "markdown",
   "id": "e90953c7-0485-4b58-8588-146e11807741",
   "metadata": {},
   "source": [
    "Some of the commonly used libraries used by Data Scientists include:\n",
    "- numpy\n",
    "- scipy\n",
    "- sklearn\n",
    "- pytorch"
   ]
  },
  {
   "cell_type": "markdown",
   "id": "e09debab-f86f-4cf7-a1ea-b727ff6095a9",
   "metadata": {},
   "source": [
    "| Data Science Tools|\n",
    "| -------------|\n",
    "| Jupyter Lab |\n",
    "| Visual Studio Code | \n",
    "| R Studio | \n",
    "| Spyder |"
   ]
  },
  {
   "cell_type": "markdown",
   "id": "d65f27a9-be4a-4585-93db-0e26212810b5",
   "metadata": {},
   "source": [
    "### Below are a few examples of evaluating arithmetic expressions in Python"
   ]
  },
  {
   "cell_type": "code",
   "execution_count": 1,
   "id": "b848c546-f252-4273-b2f0-3c888cf3d794",
   "metadata": {},
   "outputs": [
    {
     "data": {
      "text/plain": [
       "17"
      ]
     },
     "execution_count": 1,
     "metadata": {},
     "output_type": "execute_result"
    }
   ],
   "source": [
    " # This a simple arithmetic expression to mutiply then add integers\n",
    "\n",
    "(3*4)+5"
   ]
  },
  {
   "cell_type": "code",
   "execution_count": 2,
   "id": "7811ab22-5d1a-4108-808d-d55ebea392f5",
   "metadata": {},
   "outputs": [
    {
     "data": {
      "text/plain": [
       "3.3333333333333335"
      ]
     },
     "execution_count": 2,
     "metadata": {},
     "output_type": "execute_result"
    }
   ],
   "source": [
    "#  This will convert 200 minutes to hours by diving by 60\n",
    "200 / 60"
   ]
  },
  {
   "cell_type": "markdown",
   "id": "0972f35c-9c38-4484-961c-7d2823284ee3",
   "metadata": {},
   "source": [
    "**Objectives:**\n",
    "- learn to use R studio\n",
    "- learn to use jupyter notebook\n",
    "- learn to use python"
   ]
  },
  {
   "cell_type": "markdown",
   "id": "cd42d246-a025-40ab-957c-979316485da8",
   "metadata": {},
   "source": [
    "## Author: \n",
    "Yam Ke San"
   ]
  },
  {
   "cell_type": "code",
   "execution_count": null,
   "id": "a5c97514-ba89-4aa3-bb90-2820a294cf0f",
   "metadata": {},
   "outputs": [],
   "source": []
  }
 ],
 "metadata": {
  "kernelspec": {
   "display_name": "Python 3 (ipykernel)",
   "language": "python",
   "name": "python3"
  },
  "language_info": {
   "codemirror_mode": {
    "name": "ipython",
    "version": 3
   },
   "file_extension": ".py",
   "mimetype": "text/x-python",
   "name": "python",
   "nbconvert_exporter": "python",
   "pygments_lexer": "ipython3",
   "version": "3.12.8"
  }
 },
 "nbformat": 4,
 "nbformat_minor": 5
}
